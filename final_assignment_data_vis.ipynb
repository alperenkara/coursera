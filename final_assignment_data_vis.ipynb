{
  "nbformat": 4,
  "nbformat_minor": 0,
  "metadata": {
    "colab": {
      "name": "final-assignment-data-vis",
      "provenance": [],
      "collapsed_sections": [],
      "authorship_tag": "ABX9TyNO0Lxkl7JgPngqjFAPsX/2",
      "include_colab_link": true
    },
    "kernelspec": {
      "name": "python3",
      "display_name": "Python 3"
    }
  },
  "cells": [
    {
      "cell_type": "markdown",
      "metadata": {
        "id": "view-in-github",
        "colab_type": "text"
      },
      "source": [
        "<a href=\"https://colab.research.google.com/github/alperenkara/coursera/blob/master/final_assignment_data_vis.ipynb\" target=\"_parent\"><img src=\"https://colab.research.google.com/assets/colab-badge.svg\" alt=\"Open In Colab\"/></a>"
      ]
    },
    {
      "cell_type": "code",
      "metadata": {
        "id": "K4RWcVOIBdZw",
        "colab_type": "code",
        "colab": {}
      },
      "source": [
        "import pandas as pd"
      ],
      "execution_count": 0,
      "outputs": []
    },
    {
      "cell_type": "code",
      "metadata": {
        "id": "kGKdHU-yA2kX",
        "colab_type": "code",
        "colab": {
          "base_uri": "https://localhost:8080/",
          "height": 235
        },
        "outputId": "eb363e96-d08f-48de-ed9c-26fc127b0514"
      },
      "source": [
        "dt = pd.read_csv('https://cocl.us/datascience_survey_data', index_col=0)\n",
        "dt"
      ],
      "execution_count": 4,
      "outputs": [
        {
          "output_type": "execute_result",
          "data": {
            "text/html": [
              "<div>\n",
              "<style scoped>\n",
              "    .dataframe tbody tr th:only-of-type {\n",
              "        vertical-align: middle;\n",
              "    }\n",
              "\n",
              "    .dataframe tbody tr th {\n",
              "        vertical-align: top;\n",
              "    }\n",
              "\n",
              "    .dataframe thead th {\n",
              "        text-align: right;\n",
              "    }\n",
              "</style>\n",
              "<table border=\"1\" class=\"dataframe\">\n",
              "  <thead>\n",
              "    <tr style=\"text-align: right;\">\n",
              "      <th></th>\n",
              "      <th>Very interested</th>\n",
              "      <th>Somewhat interested</th>\n",
              "      <th>Not interested</th>\n",
              "    </tr>\n",
              "  </thead>\n",
              "  <tbody>\n",
              "    <tr>\n",
              "      <th>Big Data (Spark / Hadoop)</th>\n",
              "      <td>1332</td>\n",
              "      <td>729</td>\n",
              "      <td>127</td>\n",
              "    </tr>\n",
              "    <tr>\n",
              "      <th>Data Analysis / Statistics</th>\n",
              "      <td>1688</td>\n",
              "      <td>444</td>\n",
              "      <td>60</td>\n",
              "    </tr>\n",
              "    <tr>\n",
              "      <th>Data Journalism</th>\n",
              "      <td>429</td>\n",
              "      <td>1081</td>\n",
              "      <td>610</td>\n",
              "    </tr>\n",
              "    <tr>\n",
              "      <th>Data Visualization</th>\n",
              "      <td>1340</td>\n",
              "      <td>734</td>\n",
              "      <td>102</td>\n",
              "    </tr>\n",
              "    <tr>\n",
              "      <th>Deep Learning</th>\n",
              "      <td>1263</td>\n",
              "      <td>770</td>\n",
              "      <td>136</td>\n",
              "    </tr>\n",
              "    <tr>\n",
              "      <th>Machine Learning</th>\n",
              "      <td>1629</td>\n",
              "      <td>477</td>\n",
              "      <td>74</td>\n",
              "    </tr>\n",
              "  </tbody>\n",
              "</table>\n",
              "</div>"
            ],
            "text/plain": [
              "                            Very interested  ...  Not interested\n",
              "Big Data (Spark / Hadoop)              1332  ...             127\n",
              "Data Analysis / Statistics             1688  ...              60\n",
              "Data Journalism                         429  ...             610\n",
              "Data Visualization                     1340  ...             102\n",
              "Deep Learning                          1263  ...             136\n",
              "Machine Learning                       1629  ...              74\n",
              "\n",
              "[6 rows x 3 columns]"
            ]
          },
          "metadata": {
            "tags": []
          },
          "execution_count": 4
        }
      ]
    },
    {
      "cell_type": "code",
      "metadata": {
        "id": "10tSQ0kBE3gl",
        "colab_type": "code",
        "colab": {}
      },
      "source": [
        "%matplotlib inline\n",
        "import matplotlib.pyplot as mpl\n",
        "import matplotlib.pyplot as plt\n"
      ],
      "execution_count": 0,
      "outputs": []
    },
    {
      "cell_type": "code",
      "metadata": {
        "id": "yTf2Do-eBmFl",
        "colab_type": "code",
        "colab": {
          "base_uri": "https://localhost:8080/",
          "height": 729
        },
        "outputId": "f3abf48e-d525-4da9-d489-aa48ad16f924"
      },
      "source": [
        "\n",
        "\"\"\"\n",
        "2.1)Sort the dataframe in descending order of Very interested.\n",
        "2.2)Convert the numbers into percentages of the total number of respondents. \n",
        "Recall that 2,233 respondents completed the survey. Round percentages to 2 decimal places.\n",
        "\"\"\"\n",
        "dt.sort_values(['Very interested'], ascending=False, inplace=True)\n",
        "dt_per = ((dt/2233)*100).round(2)\n",
        "\"\"\"\n",
        "2.3)As for the chart:\n",
        "use a figure size of (20, 8),\n",
        "bar width of 0.8,\n",
        "use color #5cb85c for the Very interested bars, color #5bc0de for the Somewhat interested bars, and color #d9534f for the Not interested bars,\n",
        "use font size 14 for the bar labels, percentages, and legend,\n",
        "use font size 16 for the title, and,\n",
        "display the percentages above the bars as shown above, and remove the left, top, and right borders\n",
        "\"\"\"\n",
        "dt_per_plot = dt_per.plot(\n",
        "    kind='bar',\n",
        "    figsize=(20,8),\n",
        "    width=0.8,\n",
        "    color=['#5cb85c', '#5bc0de', '#d9534f'],\n",
        "    fontsize = 14,\n",
        "    )\n",
        "dt_per_plot.set_title(\"Interest in different data science topics\",size=16)"
      ],
      "execution_count": 28,
      "outputs": [
        {
          "output_type": "stream",
          "text": [
            "ERROR! Session/line number was not unique in database. History logging moved to new session 65\n"
          ],
          "name": "stdout"
        },
        {
          "output_type": "execute_result",
          "data": {
            "text/plain": [
              "Text(0.5, 1.0, 'Interest in different data science topics')"
            ]
          },
          "metadata": {
            "tags": []
          },
          "execution_count": 28
        },
        {
          "output_type": "display_data",
          "data": {
            "image/png": "[encoded data removed]",
            "text/plain": [
              "<Figure size 1440x576 with 1 Axes>"
            ]
          },
          "metadata": {
            "tags": []
          }
        }
      ]
    },
    {
      "cell_type": "code",
      "metadata": {
        "id": "PLcaLDifCmm_",
        "colab_type": "code",
        "colab": {}
      },
      "source": [
        ""
      ],
      "execution_count": 0,
      "outputs": []
    }
  ]
}